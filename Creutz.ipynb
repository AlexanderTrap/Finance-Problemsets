{
 "cells": [
  {
   "cell_type": "markdown",
   "metadata": {},
   "source": [
    "# Monte Carlo Simulation, Creutz Algorithm"
   ]
  },
  {
   "cell_type": "markdown",
   "metadata": {},
   "source": [
    "Alexander Trap, Tomas Mendes"
   ]
  },
  {
   "cell_type": "code",
   "execution_count": 1,
   "metadata": {},
   "outputs": [],
   "source": [
    "import random\n",
    "import numpy as np\n",
    "from random import randrange\n",
    "from matplotlib import pyplot as plt\n",
    "import time"
   ]
  },
  {
   "cell_type": "markdown",
   "metadata": {},
   "source": [
    "## Lennart Jones Potential"
   ]
  },
  {
   "cell_type": "markdown",
   "metadata": {},
   "source": [
    "We can describe the energy between 2 particles by a Lennart Jones potential."
   ]
  },
  {
   "cell_type": "markdown",
   "metadata": {},
   "source": [
    "\\begin{equation}V(r)=\\left[\\frac{1}{r^{12}}-\\frac{1}{r^{6}}\\right]\\end{equation}"
   ]
  },
  {
   "cell_type": "markdown",
   "metadata": {},
   "source": [
    "The potential plotted in function of the radius between the 2 particles is the following."
   ]
  },
  {
   "cell_type": "code",
   "execution_count": 176,
   "metadata": {},
   "outputs": [],
   "source": [
    "def Lennart_Jones(r):\n",
    "    return 1/r**12-1/r**6"
   ]
  },
  {
   "cell_type": "code",
   "execution_count": 189,
   "metadata": {},
   "outputs": [
    {
     "data": {
      "image/png": "[encoded data removed]",
      "text/plain": [
       "<Figure size 432x288 with 1 Axes>"
      ]
     },
     "metadata": {
      "needs_background": "light"
     },
     "output_type": "display_data"
    },
    {
     "name": "stdout",
     "output_type": "stream",
     "text": [
      "Optimal distance is when r= [1.12222222]\n"
     ]
    }
   ],
   "source": [
    "r=np.linspace(0.9,2,num=100)\n",
    "plt.plot(r,Lennart_Jones(r))\n",
    "plt.xlabel('r')\n",
    "plt.ylabel('V(r)')\n",
    "ind=[i for i, v in enumerate(Lennart_Jones(r)) if v == min(Lennart_Jones(r))]\n",
    "min_r=r[ind]\n",
    "\n",
    "plt.axvline(x=min_r, color='grey')\n",
    "plt.show()\n",
    "print('Optimal distance is when r=', min_r)"
   ]
  },
  {
   "cell_type": "markdown",
   "metadata": {},
   "source": [
    "## 1D"
   ]
  },
  {
   "cell_type": "markdown",
   "metadata": {},
   "source": [
    "In 1-dimension we will simulate a random configuration of particles on a line with just an x-coordinate. Then we will make one randomly chosen particle move and see if the configuration gives a lower energy or not. If it does give a lower energy, this is a right step towards finding the minimal energy and we give the remaining energy to the demon. If it give a higher energy we make another randomly shake to the cluster. In this way the cluster moves to a minimum, but it may be a local minimum.\n",
    "Let us see."
   ]
  },
  {
   "cell_type": "code",
   "execution_count": 65,
   "metadata": {},
   "outputs": [],
   "source": [
    "N=5 #number of particles\n",
    "size=10\n",
    "coord_particles=[random.uniform(0,10) for i in range(N)] #x-coordinate\n",
    "delta=0.01"
   ]
  },
  {
   "cell_type": "code",
   "execution_count": 3,
   "metadata": {},
   "outputs": [],
   "source": [
    "def distance(r1, r2):\n",
    "    return r1-r2"
   ]
  },
  {
   "cell_type": "code",
   "execution_count": 4,
   "metadata": {},
   "outputs": [],
   "source": [
    "def Lennart_Jones(r):\n",
    "    return 1/r**12-1/r**6"
   ]
  },
  {
   "cell_type": "code",
   "execution_count": 5,
   "metadata": {},
   "outputs": [],
   "source": [
    "def Potential(coord):\n",
    "    V_ij=[]\n",
    "    for i in range(len(coord)):\n",
    "        for j in range(len(coord)):\n",
    "            if i != j:\n",
    "                V_ij=np.append(V_ij, Lennart_Jones(distance(coord[i], coord[j])))\n",
    "            else:\n",
    "                pass\n",
    "    return 1/2*sum(V_ij)"
   ]
  },
  {
   "cell_type": "code",
   "execution_count": 6,
   "metadata": {},
   "outputs": [],
   "source": [
    "def pm():\n",
    "    return 1 if random.random() < 0.5 else -1"
   ]
  },
  {
   "cell_type": "code",
   "execution_count": 7,
   "metadata": {},
   "outputs": [],
   "source": [
    "#this function will 'shake' the system into a different one, one randaom particle is moved in a random direction\n",
    "\n",
    "def push(coord_vector):\n",
    "    i=randrange(0,N)\n",
    "    coord_vector_prime=np.copy(coord_vector)\n",
    "    coord_vector_prime[i]=coord_vector_prime[i]+pm()*delta\n",
    "    return [coord_vector_prime,i]"
   ]
  },
  {
   "cell_type": "code",
   "execution_count": 8,
   "metadata": {},
   "outputs": [],
   "source": [
    "def Creutz(iterations, coord_p):\n",
    "    \n",
    "    coord_particles=np.copy(coord_p)\n",
    "    E_D=0\n",
    "    \n",
    "    V=Potential(coord_particles)\n",
    "    \n",
    "    E=[V]\n",
    "    ED=[E_D]\n",
    "    \n",
    "    for i in range(iterations):\n",
    "        x=push(coord_particles)\n",
    "        coord_prime=x[0]\n",
    "        V_prime=Potential(coord_prime)\n",
    "        Delta_E=V_prime-V\n",
    "        \n",
    "        if Delta_E<0 and 0<=coord_prime[x[1]]<=10: #the second condition says that the partcile cant go over the edge of the box\n",
    "            coord_particles=coord_prime\n",
    "            E_D=E_D-Delta_E\n",
    "            \n",
    "            E=np.append(E, V_prime)\n",
    "            ED=np.append(ED, E_D)\n",
    "            \n",
    "            V=V_prime\n",
    "#         elif E_D >= Delta_E and 0<=coord_prime[x[1]]<=10:\n",
    "#             coord_particles=coord_prime\n",
    "#             E_D=E_D-Delta_E\n",
    "\n",
    "#             E=np.append(E, V_prime)\n",
    "#             ED=np.append(ED, E_D)\n",
    "\n",
    "#             V=V_prime\n",
    "        else:\n",
    "            pass\n",
    "    percentage=len(ED)/iterations\n",
    "    return(E, ED, percentage, len(ED), coord_particles)    "
   ]
  },
  {
   "cell_type": "code",
   "execution_count": 66,
   "metadata": {
    "pixiedust": {
     "displayParams": {}
    }
   },
   "outputs": [
    {
     "name": "stdout",
     "output_type": "stream",
     "text": [
      "Time: 1.2488911151885986 s\n"
     ]
    }
   ],
   "source": [
    "N=5 #number of particles\n",
    "size=10\n",
    "coord_particles=[random.uniform(0,10) for i in range(N)] #x-coordinate\n",
    "\n",
    "it=10000\n",
    "\n",
    "toc= time.time()\n",
    "C=Creutz(it, coord_particles)\n",
    "tic= time.time()\n",
    "it=np.arange(len(C[0]))\n",
    "T=tic-toc\n",
    "print ('Time:', T,'s')"
   ]
  },
  {
   "cell_type": "code",
   "execution_count": 67,
   "metadata": {},
   "outputs": [
    {
     "data": {
      "image/png": "[encoded data removed]",
      "text/plain": [
       "<Figure size 432x288 with 1 Axes>"
      ]
     },
     "metadata": {
      "needs_background": "light"
     },
     "output_type": "display_data"
    },
    {
     "name": "stdout",
     "output_type": "stream",
     "text": [
      "Number of iterations: 497\n"
     ]
    }
   ],
   "source": [
    "plt.plot(it,C[1])\n",
    "plt.xlabel('iteration')\n",
    "plt.ylabel('Demon Energy')\n",
    "plt.show()\n",
    "print('Number of iterations:', C[3])"
   ]
  },
  {
   "cell_type": "code",
   "execution_count": 68,
   "metadata": {},
   "outputs": [
    {
     "data": {
      "image/png": "[encoded data removed]",
      "text/plain": [
       "<Figure size 432x288 with 1 Axes>"
      ]
     },
     "metadata": {
      "needs_background": "light"
     },
     "output_type": "display_data"
    },
    {
     "name": "stdout",
     "output_type": "stream",
     "text": [
      "x-coördinates of particles: [4.73997521 3.62224917 2.50531037 5.8606644  6.98039246]\n"
     ]
    }
   ],
   "source": [
    "plt.plot(coord_particles,np.zeros(N),'o',color='grey')\n",
    "plt.plot(C[4],np.zeros(N),'o',color='red')\n",
    "plt.axhline(y=0,color='grey')\n",
    "plt.axvline(x=0)\n",
    "plt.axvline(x=10)\n",
    "plt.show()\n",
    "print('x-coördinates of particles:', C[4])"
   ]
  },
  {
   "cell_type": "markdown",
   "metadata": {},
   "source": [
    "Grey dots are the begin positions and red the end positions.\n",
    "We see that the particles each would like to be in a radiance of 1.12 to the nearest neighbour. Not suprising since this is what we saw in the 2 particle system. This is a global minimum."
   ]
  },
  {
   "cell_type": "code",
   "execution_count": 51,
   "metadata": {},
   "outputs": [
    {
     "data": {
      "image/png": "[encoded data removed]",
      "text/plain": [
       "<Figure size 432x288 with 1 Axes>"
      ]
     },
     "metadata": {
      "needs_background": "light"
     },
     "output_type": "display_data"
    },
    {
     "name": "stdout",
     "output_type": "stream",
     "text": [
      "x-coördinates of particles: [7.64652285e+00 5.40345287e+00 6.52393185e+00 1.12604982e+00\n",
      " 3.69129557e-03]\n"
     ]
    }
   ],
   "source": [
    "N=5 #number of particles\n",
    "size=10\n",
    "coord_particles=[random.uniform(0,10) for i in range(N)] #x-coordinate\n",
    "\n",
    "it=10000\n",
    "C=Creutz(it, coord_particles)\n",
    "\n",
    "plt.plot(coord_particles,np.zeros(N),'o',color='grey')\n",
    "plt.plot(C[4],np.zeros(N),'o',color='red')\n",
    "plt.axhline(y=0,color='grey')\n",
    "plt.axvline(x=0)\n",
    "plt.axvline(x=10)\n",
    "\n",
    "plt.show()\n",
    "print('x-coördinates of particles:', C[4])"
   ]
  },
  {
   "cell_type": "markdown",
   "metadata": {},
   "source": [
    "This is an example of a local minimum, we have 2 clusters."
   ]
  },
  {
   "cell_type": "markdown",
   "metadata": {},
   "source": [
    "Now, let's see what the 'real' Creutz algoritm does. Instead of skipping the energies that result in a higher energy than the previous one we will alow this. The total energy remains unchanged so we need to see if the new energy is lower than the total energy OR if there is enough energy available by the Demon to provide the change in energy. In this way the system can, in principle undergo every possible state available."
   ]
  },
  {
   "cell_type": "code",
   "execution_count": 90,
   "metadata": {},
   "outputs": [],
   "source": [
    "def Creutz2(iterations, coord_p):\n",
    "    \n",
    "    coord_particles=np.copy(coord_p)\n",
    "    E_D=0\n",
    "    \n",
    "    V=Potential(coord_particles)\n",
    "    \n",
    "    E=[V]\n",
    "    ED=[E_D]\n",
    "    \n",
    "    min_V=V\n",
    "    min_coord=coord_particles\n",
    "    \n",
    "    for i in range(iterations):\n",
    "        E=V+E_D\n",
    "        x=push(coord_particles)\n",
    "        \n",
    "        coord_prime=x[0]\n",
    "        V_prime=Potential(coord_prime)\n",
    "        E_prime=V_prime+E_D\n",
    "        \n",
    "        Delta_E=V_prime-V\n",
    "        \n",
    "        if Delta_E<0 and 0<=coord_prime[x[1]]<=10: #the second condition says that the particle cant go over the edge of the box\n",
    "            coord_particles=coord_prime\n",
    "            E_D=E_D-Delta_E\n",
    "            \n",
    "            E=np.append(E, V_prime)\n",
    "            ED=np.append(ED, E_D)\n",
    "            \n",
    "            V=V_prime\n",
    "            \n",
    "            if V<min_V:\n",
    "                min_V=V\n",
    "                min_coord=coord_particles    #if it give a lower energy for the particles than the previously lowest, we save this configuration.\n",
    "            \n",
    "        elif E_D >= Delta_E and 0<=coord_prime[x[1]]<=10:\n",
    "            coord_particles=coord_prime\n",
    "            E_D=E_D-Delta_E\n",
    "\n",
    "            E=np.append(E, V_prime)\n",
    "            ED=np.append(ED, E_D)\n",
    "\n",
    "            V=V_prime\n",
    "        else:\n",
    "            pass\n",
    "    percentage=len(ED)/iterations\n",
    "    return(E, ED, percentage, len(ED), coord_particles, min_V, min_coord)    "
   ]
  },
  {
   "cell_type": "code",
   "execution_count": 122,
   "metadata": {},
   "outputs": [],
   "source": [
    "N=10 #number of particles\n",
    "size=10\n",
    "coord_particles=[random.uniform(0,10) for i in range(N)] #x-coordinate\n",
    "delta=0.1 #A smaller delta would give more accurate results, but there is a computational limit\n",
    "\n",
    "it=100000\n",
    "\n",
    "toc= time.time()\n",
    "C=Creutz2(it, coord_particles)\n",
    "tic= time.time()\n",
    "T=tic-toc"
   ]
  },
  {
   "cell_type": "code",
   "execution_count": 127,
   "metadata": {},
   "outputs": [
    {
     "data": {
      "image/png": "[encoded data removed]",
      "text/plain": [
       "<Figure size 432x288 with 1 Axes>"
      ]
     },
     "metadata": {
      "needs_background": "light"
     },
     "output_type": "display_data"
    },
    {
     "name": "stdout",
     "output_type": "stream",
     "text": [
      "x-coördinates of particles: [9.04856517 3.83013841 4.89025368 6.32727855 2.28727962 3.06890256\n",
      " 9.95306457 1.03027356 7.22296452 0.17388682]\n",
      "Iterations: 98564\n",
      "Time: 63.06778836250305\n",
      "Percentage: 0.98564\n"
     ]
    }
   ],
   "source": [
    "plt.plot(coord_particles,np.zeros(N),'o',color='grey')\n",
    "plt.plot(C[6],np.zeros(N),'o',color='red')\n",
    "plt.axhline(y=0,color='grey')\n",
    "plt.axvline(x=0)\n",
    "plt.axvline(x=10)\n",
    "plt.xlabel('x')\n",
    "plt.show()\n",
    "print('x-coördinates of particles:', C[6])\n",
    "print('Iterations:', C[3])\n",
    "print('Time:', T)\n",
    "print('Percentage:', C[2])"
   ]
  },
  {
   "cell_type": "code",
   "execution_count": 124,
   "metadata": {},
   "outputs": [
    {
     "data": {
      "image/png": "[encoded data removed]",
      "text/plain": [
       "<Figure size 432x288 with 1 Axes>"
      ]
     },
     "metadata": {
      "needs_background": "light"
     },
     "output_type": "display_data"
    }
   ],
   "source": [
    "plt.plot(np.arange(len(C[1])), C[1])\n",
    "plt.ylabel('Demon Energy')\n",
    "plt.show()"
   ]
  },
  {
   "cell_type": "markdown",
   "metadata": {},
   "source": [
    "Here we can see that the demon energy stabelizes after certain point of iterations! We reached the minimum. The space of 1.12 is not reached because we have 10 particles and 10*1.12>10 so this is the ideal configuration."
   ]
  },
  {
   "cell_type": "markdown",
   "metadata": {},
   "source": [
    "# 2D"
   ]
  },
  {
   "cell_type": "markdown",
   "metadata": {},
   "source": [
    "We can easily expand this problem to 2-dimensions, all we have to do is adding one extra degree of freedom. We pose the coordinates as a matrix with on the x-coordinates as the first column and the y coordinates as the second column."
   ]
  },
  {
   "cell_type": "code",
   "execution_count": 130,
   "metadata": {},
   "outputs": [],
   "source": [
    "def R(coord1,coord2):\n",
    "    return (sum(np.square(coord1-coord2)))**(1/2)"
   ]
  },
  {
   "cell_type": "code",
   "execution_count": 131,
   "metadata": {},
   "outputs": [],
   "source": [
    "def Potential(coord):\n",
    "    V_ij=[]\n",
    "    for i in range(len(coord[:,0])):\n",
    "        for j in range(len(coord[:,0])):\n",
    "            if i != j:\n",
    "                V_ij=np.append(V_ij, Lennart_Jones(R(coord[i,:], coord[j,:])))\n",
    "            else:\n",
    "                pass\n",
    "    return 1/2*sum(V_ij)\n",
    "    "
   ]
  },
  {
   "cell_type": "code",
   "execution_count": 132,
   "metadata": {},
   "outputs": [],
   "source": [
    "def push(coord_matrix):\n",
    "    i=randrange(N)\n",
    "    direction=randrange(0,2)\n",
    "    coord_matrix[i,direction] #choose a random direction, horizontal or vertical.\n",
    "    coord_matrix_prime=np.copy(coord_matrix)\n",
    "    coord_matrix_prime[i,direction]=coord_matrix_prime[i,direction]+pm()*delta\n",
    "    return [coord_matrix_prime,i, direction]"
   ]
  },
  {
   "cell_type": "code",
   "execution_count": 133,
   "metadata": {},
   "outputs": [],
   "source": [
    "def Creutz(iterations, coord_p):\n",
    "    \n",
    "    coord_particles=np.copy(coord_p)\n",
    "    E_D=0\n",
    "    \n",
    "    V=Potential(coord_particles)\n",
    "    \n",
    "    E=[V]\n",
    "    ED=[E_D]\n",
    "    \n",
    "    for i in range(iterations):\n",
    "        xy=push(coord_particles)\n",
    "        coord_prime=xy[0]\n",
    "        V_prime=Potential(coord_prime)\n",
    "        Delta_E=V_prime-V\n",
    "        \n",
    "        if Delta_E<0 and 0<=coord_prime[xy[1],xy[2]]<=10: #V_prime<V:\n",
    "            coord_particles=coord_prime\n",
    "            E_D=E_D-Delta_E\n",
    "            \n",
    "            E=np.append(E, V_prime)\n",
    "            ED=np.append(ED, E_D)\n",
    "            \n",
    "            V=V_prime\n",
    "#         elif E_D >= Delta_E and 0<=coord_prime[xy[1],xy[2]]<=10:\n",
    "#             coord_particles=coord_prime\n",
    "#             E_D=E_D-Delta_E\n",
    "\n",
    "#             E=np.append(E, V_prime)\n",
    "#             ED=np.append(ED, E_D)\n",
    "\n",
    "#             V=V_prime\n",
    "        else:\n",
    "            pass\n",
    "    percentage=len(ED)/iterations\n",
    "    return(E, ED, percentage, len(ED), coord_particles)\n",
    "    \n",
    "    "
   ]
  },
  {
   "cell_type": "code",
   "execution_count": 150,
   "metadata": {},
   "outputs": [],
   "source": [
    "N=16\n",
    "delta=0.01\n",
    "coord_x=[random.uniform(0,1)+5 for i in range(N)]\n",
    "coord_y=[random.uniform(0,1)+5 for i in range(N)]\n",
    "coord_xy=np.append(coord_x,coord_y).reshape(2,N)\n",
    "coord_xy=np.transpose(coord_xy)"
   ]
  },
  {
   "cell_type": "code",
   "execution_count": 154,
   "metadata": {},
   "outputs": [
    {
     "data": {
      "text/plain": [
       "23.11494469642639"
      ]
     },
     "execution_count": 154,
     "metadata": {},
     "output_type": "execute_result"
    }
   ],
   "source": [
    "it=10000\n",
    "\n",
    "toc= time.time()\n",
    "C=Creutz(it, coord_xy)\n",
    "tic= time.time()\n",
    "it=np.arange(len(C[0]))\n",
    "tic-toc"
   ]
  },
  {
   "cell_type": "code",
   "execution_count": 155,
   "metadata": {},
   "outputs": [
    {
     "data": {
      "image/png": "[encoded data removed]",
      "text/plain": [
       "<Figure size 432x288 with 1 Axes>"
      ]
     },
     "metadata": {
      "needs_background": "light"
     },
     "output_type": "display_data"
    }
   ],
   "source": [
    "plt.plot(it,C[1], label=\"Demon Energy\")\n",
    "plt.legend(loc=\"right\")\n",
    "plt.show()"
   ]
  },
  {
   "cell_type": "code",
   "execution_count": 156,
   "metadata": {
    "scrolled": true
   },
   "outputs": [
    {
     "data": {
      "image/png": "[encoded data removed]",
      "text/plain": [
       "<Figure size 432x288 with 1 Axes>"
      ]
     },
     "metadata": {
      "needs_background": "light"
     },
     "output_type": "display_data"
    }
   ],
   "source": [
    "plt.plot(coord_xy[:,0],coord_xy[:,1],'o',color='grey')\n",
    "min_cds=C[4]\n",
    "plt.plot(min_cds[:,0],min_cds[:,1],'o', color='red')\n",
    "plt.axhline(y=0,color='black')\n",
    "plt.axhline(y=10,color='black')\n",
    "plt.axvline(x=0,color='black')\n",
    "plt.axvline(x=10,color='black')\n",
    "plt.show()"
   ]
  },
  {
   "cell_type": "markdown",
   "metadata": {},
   "source": [
    "Once again we see that the system tries to find a nearest neighbour distance of r=1.12"
   ]
  },
  {
   "cell_type": "code",
   "execution_count": 142,
   "metadata": {},
   "outputs": [],
   "source": [
    "def Creutz2(iterations, coord_p):\n",
    "    \n",
    "    coord_particles=np.copy(coord_p)\n",
    "    E_D=0\n",
    "    \n",
    "    V=Potential(coord_particles)\n",
    "    \n",
    "    E=[V]\n",
    "    ED=[E_D]\n",
    "    \n",
    "    min_V=V\n",
    "    min_coord=coord_particles\n",
    "    \n",
    "    for i in range(iterations):\n",
    "        E=V+E_D\n",
    "        xy=push(coord_particles)\n",
    "        \n",
    "        coord_prime=xy[0]\n",
    "        V_prime=Potential(coord_prime)\n",
    "        E_prime=V_prime+E_D\n",
    "        \n",
    "        Delta_E=V_prime-V\n",
    "        \n",
    "        if Delta_E<0 and 0<=coord_prime[xy[1],xy[2]]<=10: #the second condition says that the particle cant go over the edge of the box\n",
    "            coord_particles=coord_prime\n",
    "            E_D=E_D-Delta_E\n",
    "            \n",
    "            E=np.append(E, V_prime)\n",
    "            ED=np.append(ED, E_D)\n",
    "            \n",
    "            V=V_prime\n",
    "            \n",
    "            if V<min_V:\n",
    "                min_V=V\n",
    "                min_coord=coord_particles    #if it give a lower energy for the particles than the previously lowest, we save this configuration.\n",
    "            \n",
    "        elif E_D >= Delta_E and 0<=coord_prime[xy[1],xy[2]]<=10:\n",
    "            coord_particles=coord_prime\n",
    "            E_D=E_D-Delta_E\n",
    "\n",
    "            E=np.append(E, V_prime)\n",
    "            ED=np.append(ED, E_D)\n",
    "\n",
    "            V=V_prime\n",
    "        else:\n",
    "            pass\n",
    "    percentage=len(ED)/iterations\n",
    "    return(E, ED, percentage, len(ED), coord_particles, min_V, min_coord)    "
   ]
  },
  {
   "cell_type": "code",
   "execution_count": 160,
   "metadata": {},
   "outputs": [
    {
     "data": {
      "text/plain": [
       "85.3738317489624"
      ]
     },
     "execution_count": 160,
     "metadata": {},
     "output_type": "execute_result"
    }
   ],
   "source": [
    "N=9\n",
    "delta=0.2\n",
    "coord_x=[random.uniform(0,1)+5 for i in range(N)]\n",
    "coord_y=[random.uniform(0,1)+5 for i in range(N)]\n",
    "coord_xy=np.append(coord_x,coord_y).reshape(2,N)\n",
    "coord_xy=np.transpose(coord_xy)\n",
    "\n",
    "it=100000\n",
    "\n",
    "toc= time.time()\n",
    "C=Creutz2(it, coord_xy)\n",
    "tic= time.time()\n",
    "tic-toc"
   ]
  },
  {
   "cell_type": "code",
   "execution_count": 162,
   "metadata": {},
   "outputs": [
    {
     "data": {
      "image/png": "[encoded data removed]",
      "text/plain": [
       "<Figure size 432x288 with 1 Axes>"
      ]
     },
     "metadata": {
      "needs_background": "light"
     },
     "output_type": "display_data"
    }
   ],
   "source": [
    "plt.plot(np.arange(len(C[1])), C[1])\n",
    "plt.ylabel('Demon Energy')\n",
    "plt.show()"
   ]
  },
  {
   "cell_type": "code",
   "execution_count": 164,
   "metadata": {},
   "outputs": [
    {
     "data": {
      "image/png": "[encoded data removed]",
      "text/plain": [
       "<Figure size 432x288 with 1 Axes>"
      ]
     },
     "metadata": {
      "needs_background": "light"
     },
     "output_type": "display_data"
    }
   ],
   "source": [
    "plt.plot(coord_xy[:,0],coord_xy[:,1],'o',color='grey')\n",
    "min_cds=C[6]\n",
    "plt.plot(min_cds[:,0],min_cds[:,1],'o', color='red')\n",
    "plt.axhline(y=0,color='black')\n",
    "plt.axhline(y=10,color='black')\n",
    "plt.axvline(x=0,color='black')\n",
    "plt.axvline(x=10,color='black')\n",
    "plt.show()"
   ]
  },
  {
   "cell_type": "markdown",
   "metadata": {},
   "source": [
    "The number of iteration must be very much larger to achive the global minumum because of the extra degree of freedom. But we can see here 4 clusters, this is a local minimum."
   ]
  },
  {
   "cell_type": "markdown",
   "metadata": {},
   "source": [
    "# 3D"
   ]
  },
  {
   "cell_type": "markdown",
   "metadata": {},
   "source": [
    "Now it is very easy to expand to 3D, just one extra degree of freedom. We will not do the 'real' Creutz algoritm because we already needed many more iterations in 2D."
   ]
  },
  {
   "cell_type": "code",
   "execution_count": 165,
   "metadata": {},
   "outputs": [],
   "source": [
    "N=4\n",
    "coord_x=[random.uniform(0.2,9.8) for i in range(N)]\n",
    "coord_y=[random.uniform(0.2,9.8) for i in range(N)]\n",
    "coord_z=[random.uniform(0.2,9.8) for i in range(N)]\n",
    "coord_xy=np.append(coord_x,coord_y)\n",
    "coord_xyz=np.append(coord_xy,coord_z).reshape(3,N)\n",
    "coord_xyz=np.transpose(coord_xyz)"
   ]
  },
  {
   "cell_type": "code",
   "execution_count": 135,
   "metadata": {},
   "outputs": [],
   "source": [
    "def R(coord1,coord2):\n",
    "    return (sum(np.square(coord1-coord2)))**(1/2)"
   ]
  },
  {
   "cell_type": "code",
   "execution_count": 166,
   "metadata": {},
   "outputs": [],
   "source": [
    "def Potential(coord):\n",
    "    V_ij=[]\n",
    "    for i in range(len(coord[:,0])):\n",
    "        for j in range(len(coord[:,0])):\n",
    "            if i != j:\n",
    "                V_ij=np.append(V_ij, Lennart_Jones(R(coord[i,:], coord[j,:])))\n",
    "            else:\n",
    "                pass\n",
    "    return 1/2*sum(V_ij)"
   ]
  },
  {
   "cell_type": "code",
   "execution_count": 167,
   "metadata": {},
   "outputs": [],
   "source": [
    "def push(coord_matrix):\n",
    "    i=randrange(N)\n",
    "    direction=randrange(0,3)\n",
    "    coord_matrix[i,direction]\n",
    "    coord_matrix_prime=np.copy(coord_matrix)\n",
    "    coord_matrix_prime[i,direction]=coord_matrix_prime[i,direction]+pm()*delta\n",
    "    return [coord_matrix_prime,i, direction]"
   ]
  },
  {
   "cell_type": "code",
   "execution_count": 168,
   "metadata": {},
   "outputs": [],
   "source": [
    "def Creutz(iterations, coord_p):\n",
    "    \n",
    "    coord_particles=np.copy(coord_p)\n",
    "    E_D=0\n",
    "    \n",
    "    V=Potential(coord_particles)\n",
    "    \n",
    "    E=[V]\n",
    "    ED=[E_D]\n",
    "    \n",
    "    for i in range(iterations):\n",
    "        xy=push(coord_particles)\n",
    "        coord_prime=xy[0]\n",
    "        V_prime=Potential(coord_prime)\n",
    "        Delta_E=V_prime-V\n",
    "        \n",
    "        if Delta_E<0 and 0<=coord_prime[xy[1],xy[2]]<=10: #V_prime<V:\n",
    "            coord_particles=coord_prime\n",
    "            E_D=E_D-Delta_E\n",
    "            \n",
    "            E=np.append(E, V_prime)\n",
    "            ED=np.append(ED, E_D)\n",
    "            \n",
    "            V=V_prime\n",
    "#         elif E_D >= Delta_E and 0<=coord_prime[xy[1],xy[2]]<=10:\n",
    "#             coord_particles=coord_prime\n",
    "#             E_D=E_D-Delta_E\n",
    "\n",
    "#             E=np.append(E, V_prime)\n",
    "#             ED=np.append(ED, E_D)\n",
    "\n",
    "#             V=V_prime\n",
    "        else:\n",
    "            pass\n",
    "    percentage=len(ED)/iterations\n",
    "    return(E, ED, percentage, len(ED), coord_particles)"
   ]
  },
  {
   "cell_type": "code",
   "execution_count": 169,
   "metadata": {},
   "outputs": [],
   "source": [
    "N=3**3\n",
    "delta=0.1\n",
    "coord_x=[random.uniform(0,10) for i in range(N)]\n",
    "coord_y=[random.uniform(0,10) for i in range(N)]\n",
    "coord_z=[random.uniform(0,10) for i in range(N)]\n",
    "coord_xy=np.append(coord_x,coord_y)\n",
    "coord_xyz=np.append(coord_xy,coord_z).reshape(3,N)\n",
    "coord_xyz=np.transpose(coord_xyz)"
   ]
  },
  {
   "cell_type": "code",
   "execution_count": 170,
   "metadata": {},
   "outputs": [
    {
     "data": {
      "text/plain": [
       "76.16591930389404"
      ]
     },
     "execution_count": 170,
     "metadata": {},
     "output_type": "execute_result"
    }
   ],
   "source": [
    "it=10000\n",
    "\n",
    "toc= time.time()\n",
    "C=Creutz(it, coord_xyz)\n",
    "tic= time.time()\n",
    "it=np.arange(len(C[0]))\n",
    "tic-toc"
   ]
  },
  {
   "cell_type": "code",
   "execution_count": 171,
   "metadata": {},
   "outputs": [
    {
     "data": {
      "image/png": "[encoded data removed]",
      "text/plain": [
       "<Figure size 432x288 with 1 Axes>"
      ]
     },
     "metadata": {
      "needs_background": "light"
     },
     "output_type": "display_data"
    }
   ],
   "source": [
    "plt.plot(it,C[1], label=\"Demon Energy\")\n",
    "plt.legend(loc=\"right\")\n",
    "plt.show()"
   ]
  },
  {
   "cell_type": "code",
   "execution_count": 172,
   "metadata": {},
   "outputs": [
    {
     "data": {
      "image/png": "[encoded data removed]",
      "text/plain": [
       "<Figure size 432x288 with 1 Axes>"
      ]
     },
     "metadata": {
      "needs_background": "light"
     },
     "output_type": "display_data"
    }
   ],
   "source": [
    "from mpl_toolkits.mplot3d import Axes3D\n",
    "\n",
    "fig = plt.figure()\n",
    "ax = fig.add_subplot(111, projection='3d')\n",
    "ax.scatter(coord_xyz[:,0],coord_xyz[:,1],coord_xyz[:,1], '.',color='grey')\n",
    "ax.scatter(coord_xyz[:,0],coord_xyz[:,1],coord_xyz[:,1], '.',color='grey')\n",
    "plt.plot(min_cds[:,0],min_cds[:,1],min_cds[:,1],'.', color='red')\n",
    "min_cds=C[4]\n",
    "# plt.plot(min_cds[:,0],min_cds[:,1],min_cds[:,1],'o', color='red')\n",
    "ax.set_xlim3d(0, 10)\n",
    "ax.set_ylim3d(0,10)\n",
    "ax.set_zlim3d(0,10)\n",
    "plt.show()"
   ]
  },
  {
   "cell_type": "markdown",
   "metadata": {},
   "source": [
    "Below a histogram of every distances between the particles. I know it I count double but since I am making a histogram is does not really matter. It is just to give an idea."
   ]
  },
  {
   "cell_type": "code",
   "execution_count": 173,
   "metadata": {},
   "outputs": [],
   "source": [
    "All_R=[]\n",
    "for i in range(len(min_cds[:,1])):\n",
    "    for j in range(len(min_cds[:,1])):\n",
    "        if i!=j:\n",
    "            All_R=np.append(All_R,R(min_cds[i,:],min_cds[j,:]))\n",
    "    "
   ]
  },
  {
   "cell_type": "code",
   "execution_count": 174,
   "metadata": {},
   "outputs": [
    {
     "data": {
      "image/png": "[encoded data removed]",
      "text/plain": [
       "<Figure size 432x288 with 1 Axes>"
      ]
     },
     "metadata": {
      "needs_background": "light"
     },
     "output_type": "display_data"
    }
   ],
   "source": [
    "plt.hist(All_R,150)\n",
    "plt.show()"
   ]
  },
  {
   "cell_type": "markdown",
   "metadata": {},
   "source": [
    "As can be seen in the above histogram, the system always converges to a configuration where most of the particles are in the ideal configuration where most distances between the particle are R=1.12."
   ]
  }
 ],
 "metadata": {
  "kernelspec": {
   "display_name": "Python 3",
   "language": "python",
   "name": "python3"
  },
  "language_info": {
   "codemirror_mode": {
    "name": "ipython",
    "version": 3
   },
   "file_extension": ".py",
   "mimetype": "text/x-python",
   "name": "python",
   "nbconvert_exporter": "python",
   "pygments_lexer": "ipython3",
   "version": "3.7.4"
  }
 },
 "nbformat": 4,
 "nbformat_minor": 2
}
