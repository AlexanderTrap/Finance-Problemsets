{
 "cells": [
  {
   "cell_type": "markdown",
   "metadata": {},
   "source": [
    "# Problemset 1"
   ]
  },
  {
   "cell_type": "markdown",
   "metadata": {},
   "source": [
    "## Yield To Maturity"
   ]
  },
  {
   "cell_type": "markdown",
   "metadata": {},
   "source": [
    "\\begin{equation}P(t)=V e^{-\\alpha(T-t)}+\\sum_{i}^{N} C_{i} e^{-\\alpha\\left(t_{i}-t\\right)}\\end{equation}"
   ]
  },
  {
   "cell_type": "markdown",
   "metadata": {},
   "source": [
    "The firt term on the RHS is the coupon value that is 'increased' over time and the second one is the payments that are being reinvested.\n",
    "Let's try and solve for $\\alpha$ with the method of trial and error, by using problem 2.15 as an example."
   ]
  },
  {
   "cell_type": "markdown",
   "metadata": {},
   "source": [
    "### Problem 2.15 "
   ]
  },
  {
   "cell_type": "markdown",
   "metadata": {},
   "source": [
    "A bond with a residual maturity (up to the end of the contract) of 5 years is quoted at 95 cts, has a principal of 1 Euro and pays an interest of 2% from today. Calculate yield-to-maturity using the numerical method you ﬁnd appropriate."
   ]
  },
  {
   "cell_type": "markdown",
   "metadata": {},
   "source": [
    "We assume that we re-invest annually so in this case, this results in\n",
    "\\begin{equation} 0 =0,95  e^{-\\alpha*5}+\\sum_{i}^{5} C_i e^{-\\alpha*1}-1\\end{equation}\n",
    "$C_1=0,02$"
   ]
  },
  {
   "cell_type": "code",
   "execution_count": 1,
   "metadata": {},
   "outputs": [],
   "source": [
    "import numpy as np"
   ]
  },
  {
   "cell_type": "markdown",
   "metadata": {},
   "source": [
    "We will use Newton's method to find the root for this function, which result in a value $\\alpha$ and this is the variable we are looking for."
   ]
  },
  {
   "cell_type": "code",
   "execution_count": 2,
   "metadata": {},
   "outputs": [],
   "source": [
    "def func(x): \n",
    "    return 1*np.exp(-x*5)+0.02*5*np.exp(-x)-0.95\n",
    "\n",
    "def derivFunc(x): \n",
    "    return -5*1*np.exp(-x*5)-0.02*5*np.exp(-x)"
   ]
  },
  {
   "cell_type": "code",
   "execution_count": 4,
   "metadata": {},
   "outputs": [],
   "source": [
    "def Newton(x): \n",
    "    h = func(x) / derivFunc(x) \n",
    "    while abs(h) >= 0.0001:\n",
    "        h = func(x)/derivFunc(x) \n",
    "        x = x - h \n",
    "      \n",
    "    return x"
   ]
  },
  {
   "cell_type": "code",
   "execution_count": 5,
   "metadata": {},
   "outputs": [
    {
     "data": {
      "text/plain": [
       "0.03176937064547078"
      ]
     },
     "execution_count": 5,
     "metadata": {},
     "output_type": "execute_result"
    }
   ],
   "source": [
    "Newton(0.02)"
   ]
  },
  {
   "cell_type": "markdown",
   "metadata": {},
   "source": [
    "The YTM is equal to 3,2%."
   ]
  },
  {
   "cell_type": "markdown",
   "metadata": {},
   "source": [
    "### Problem 2.32"
   ]
  },
  {
   "cell_type": "markdown",
   "metadata": {},
   "source": [
    "#### 1"
   ]
  },
  {
   "cell_type": "code",
   "execution_count": 6,
   "metadata": {},
   "outputs": [],
   "source": [
    "def func(x): \n",
    "    return 100*np.exp(-x*5)+10*5*np.exp(-x)-100\n",
    "\n",
    "def derivFunc(x): \n",
    "    return -5*100*np.exp(-x*5)-10*5*np.exp(-x)"
   ]
  },
  {
   "cell_type": "code",
   "execution_count": 7,
   "metadata": {
    "scrolled": false
   },
   "outputs": [
    {
     "data": {
      "text/plain": [
       "0.11758846908030832"
      ]
     },
     "execution_count": 7,
     "metadata": {},
     "output_type": "execute_result"
    }
   ],
   "source": [
    "Newton(0.02)"
   ]
  },
  {
   "cell_type": "markdown",
   "metadata": {},
   "source": [
    "The YTM is equal to 11,8%."
   ]
  },
  {
   "cell_type": "markdown",
   "metadata": {},
   "source": [
    "#### 2"
   ]
  },
  {
   "cell_type": "code",
   "execution_count": 8,
   "metadata": {},
   "outputs": [],
   "source": [
    "def func(x): \n",
    "    return 100*np.exp(-x*5)+10*5*np.exp(-x)-80\n",
    "\n",
    "def derivFunc(x): \n",
    "    return -5*100*np.exp(-x*5)-10*5*np.exp(-x)"
   ]
  },
  {
   "cell_type": "code",
   "execution_count": 11,
   "metadata": {},
   "outputs": [
    {
     "data": {
      "text/plain": [
       "0.1900939916603588"
      ]
     },
     "execution_count": 11,
     "metadata": {},
     "output_type": "execute_result"
    }
   ],
   "source": [
    "Newton(0.02)"
   ]
  },
  {
   "cell_type": "markdown",
   "metadata": {},
   "source": [
    "The YTM is equal to 19,0%."
   ]
  }
 ],
 "metadata": {
  "kernelspec": {
   "display_name": "Python 3",
   "language": "python",
   "name": "python3"
  },
  "language_info": {
   "codemirror_mode": {
    "name": "ipython",
    "version": 3
   },
   "file_extension": ".py",
   "mimetype": "text/x-python",
   "name": "python",
   "nbconvert_exporter": "python",
   "pygments_lexer": "ipython3",
   "version": "3.7.4"
  }
 },
 "nbformat": 4,
 "nbformat_minor": 2
}
